{
 "cells": [
  {
   "cell_type": "markdown",
   "metadata": {},
   "source": [
    "# Final project\n",
    "_by Anders Pedersen_"
   ]
  },
  {
   "cell_type": "markdown",
   "metadata": {},
   "source": [
    "[0. Introduction](#0)  \n",
    "[1. EDA](#1)  \n",
    "[2. Data Cleaning](#2)  \n",
    "[3. Aggregate data and mean encoding](#3)  \n",
    "[4. Time series LAG](#4)  \n",
    "[5. Feature engineering](#5)  \n",
    "[6. Data leakage search](#6)  \n",
    "[7. Data clipping](#7)  \n",
    "[8. Validation](#8)  \n",
    "[9. Training](#9)  \n",
    "[10. Predict](#10)  \n",
    "[11. Conclusion and metric evaluation](#11)  \n",
    "\n",
    "<!-- toc -->"
   ]
  },
  {
   "cell_type": "markdown",
   "metadata": {},
   "source": [
    "# 0. Introduction <a name='0'></a>"
   ]
  },
  {
   "cell_type": "markdown",
   "metadata": {},
   "source": [
    "This competition contains a time-series dataset consisting of daily sales data, from the Russian software firms - 1C Company hosted on Kaggle Inclass found __[here](https://www.kaggle.com/c/competitive-data-science-final-project)__.\n",
    "The challenge is to predict total sales for every (shop, item) combination in the next month (item_cnt_month).  \n",
    "\n",
    "This means that we will at some point need to aggregate our training data on (shop, item) combinations per month.  \n",
    "\n",
    "The column *'date_block_num'* is a consecutive month number. Jan 2013 is 0, Feb 2013 is 1 etc.\n",
    "The training set runs from Jan 2013 (date_block_num=0) to Oct 2015 (date_block_num=33) and the challenge is hence to predict the sales for Nov 2015 (date_block_num=34)."
   ]
  },
  {
   "cell_type": "code",
   "execution_count": 1,
   "metadata": {},
   "outputs": [],
   "source": [
    "import pandas as pd\n",
    "import numpy as np\n",
    "import matplotlib.pyplot as plt\n",
    "import xgboost as xgb\n",
    "import pickle\n",
    "from IPython.core.interactiveshell import InteractiveShell\n",
    "from multiprocessing import Pool\n",
    "from itertools import product\n",
    "from sklearn import preprocessing\n",
    "InteractiveShell.ast_node_interactivity = \"all\"\n",
    "%matplotlib inline"
   ]
  },
  {
   "cell_type": "code",
   "execution_count": 2,
   "metadata": {},
   "outputs": [],
   "source": [
    "test = pd.read_csv('test.csv')\n",
    "shop = pd.read_csv('shops.csv')\n",
    "submission = pd.read_csv('sample_submission.csv')\n",
    "sales = pd.read_csv('sales_train.csv')\n",
    "items = pd.read_csv('items.csv')\n",
    "item_category = pd.read_csv('item_categories.csv')"
   ]
  },
  {
   "cell_type": "markdown",
   "metadata": {},
   "source": [
    "### Grid for restructuring\n",
    "We have to restructure train data to match the test data generation.  \n",
    "To do this we create a 'master' grid."
   ]
  },
  {
   "cell_type": "code",
   "execution_count": 3,
   "metadata": {},
   "outputs": [],
   "source": [
    "index_cols = ['shop_id', 'item_id', 'date_block_num']\n",
    "grid = []\n",
    "for block_num in sales['date_block_num'].unique():\n",
    "    cur_shops = sales.loc[sales['date_block_num'] == block_num, 'shop_id'].unique()\n",
    "    cur_items = sales.loc[sales['date_block_num'] == block_num, 'item_id'].unique()\n",
    "    grid.append(np.array(list(product(*[cur_shops, cur_items, [block_num]])),dtype='int32'))\n",
    "grid = pd.DataFrame(np.vstack(grid), columns = index_cols,dtype=np.int32)"
   ]
  },
  {
   "cell_type": "markdown",
   "metadata": {},
   "source": [
    "# 1. EDA <a name='1'></a>"
   ]
  },
  {
   "cell_type": "markdown",
   "metadata": {},
   "source": [
    "### General characteristics of the training and test sets\n",
    "The sales dataframe have 2935849 rows and 6 colums.  \n",
    "The row 'item_cnt_day' is the number we will aggregate and use as our labelled data."
   ]
  },
  {
   "cell_type": "code",
   "execution_count": 4,
   "metadata": {},
   "outputs": [
    {
     "data": {
      "text/plain": [
       "(2935849, 6)"
      ]
     },
     "execution_count": 4,
     "metadata": {},
     "output_type": "execute_result"
    }
   ],
   "source": [
    "sales.shape"
   ]
  },
  {
   "cell_type": "code",
   "execution_count": 5,
   "metadata": {},
   "outputs": [
    {
     "data": {
      "text/html": [
       "<div>\n",
       "<style scoped>\n",
       "    .dataframe tbody tr th:only-of-type {\n",
       "        vertical-align: middle;\n",
       "    }\n",
       "\n",
       "    .dataframe tbody tr th {\n",
       "        vertical-align: top;\n",
       "    }\n",
       "\n",
       "    .dataframe thead th {\n",
       "        text-align: right;\n",
       "    }\n",
       "</style>\n",
       "<table border=\"1\" class=\"dataframe\">\n",
       "  <thead>\n",
       "    <tr style=\"text-align: right;\">\n",
       "      <th></th>\n",
       "      <th>date</th>\n",
       "      <th>date_block_num</th>\n",
       "      <th>shop_id</th>\n",
       "      <th>item_id</th>\n",
       "      <th>item_price</th>\n",
       "      <th>item_cnt_day</th>\n",
       "    </tr>\n",
       "  </thead>\n",
       "  <tbody>\n",
       "    <tr>\n",
       "      <th>0</th>\n",
       "      <td>02.01.2013</td>\n",
       "      <td>0</td>\n",
       "      <td>59</td>\n",
       "      <td>22154</td>\n",
       "      <td>999.0</td>\n",
       "      <td>1.0</td>\n",
       "    </tr>\n",
       "  </tbody>\n",
       "</table>\n",
       "</div>"
      ],
      "text/plain": [
       "         date  date_block_num  shop_id  item_id  item_price  item_cnt_day\n",
       "0  02.01.2013               0       59    22154       999.0           1.0"
      ]
     },
     "execution_count": 5,
     "metadata": {},
     "output_type": "execute_result"
    }
   ],
   "source": [
    "sales.head(1)"
   ]
  },
  {
   "cell_type": "code",
   "execution_count": 6,
   "metadata": {},
   "outputs": [
    {
     "data": {
      "text/plain": [
       "(214200, 3)"
      ]
     },
     "execution_count": 6,
     "metadata": {},
     "output_type": "execute_result"
    }
   ],
   "source": [
    "test.shape"
   ]
  },
  {
   "cell_type": "code",
   "execution_count": 7,
   "metadata": {},
   "outputs": [
    {
     "data": {
      "text/html": [
       "<div>\n",
       "<style scoped>\n",
       "    .dataframe tbody tr th:only-of-type {\n",
       "        vertical-align: middle;\n",
       "    }\n",
       "\n",
       "    .dataframe tbody tr th {\n",
       "        vertical-align: top;\n",
       "    }\n",
       "\n",
       "    .dataframe thead th {\n",
       "        text-align: right;\n",
       "    }\n",
       "</style>\n",
       "<table border=\"1\" class=\"dataframe\">\n",
       "  <thead>\n",
       "    <tr style=\"text-align: right;\">\n",
       "      <th></th>\n",
       "      <th>ID</th>\n",
       "      <th>shop_id</th>\n",
       "      <th>item_id</th>\n",
       "    </tr>\n",
       "  </thead>\n",
       "  <tbody>\n",
       "    <tr>\n",
       "      <th>0</th>\n",
       "      <td>0</td>\n",
       "      <td>5</td>\n",
       "      <td>5037</td>\n",
       "    </tr>\n",
       "  </tbody>\n",
       "</table>\n",
       "</div>"
      ],
      "text/plain": [
       "   ID  shop_id  item_id\n",
       "0   0        5     5037"
      ]
     },
     "execution_count": 7,
     "metadata": {},
     "output_type": "execute_result"
    }
   ],
   "source": [
    "test.head(1)"
   ]
  },
  {
   "cell_type": "code",
   "execution_count": 8,
   "metadata": {},
   "outputs": [
    {
     "data": {
      "text/html": [
       "<div>\n",
       "<style scoped>\n",
       "    .dataframe tbody tr th:only-of-type {\n",
       "        vertical-align: middle;\n",
       "    }\n",
       "\n",
       "    .dataframe tbody tr th {\n",
       "        vertical-align: top;\n",
       "    }\n",
       "\n",
       "    .dataframe thead th {\n",
       "        text-align: right;\n",
       "    }\n",
       "</style>\n",
       "<table border=\"1\" class=\"dataframe\">\n",
       "  <thead>\n",
       "    <tr style=\"text-align: right;\">\n",
       "      <th></th>\n",
       "      <th>ID</th>\n",
       "      <th>item_cnt_month</th>\n",
       "    </tr>\n",
       "  </thead>\n",
       "  <tbody>\n",
       "    <tr>\n",
       "      <th>0</th>\n",
       "      <td>0</td>\n",
       "      <td>0.5</td>\n",
       "    </tr>\n",
       "  </tbody>\n",
       "</table>\n",
       "</div>"
      ],
      "text/plain": [
       "   ID  item_cnt_month\n",
       "0   0             0.5"
      ]
     },
     "execution_count": 8,
     "metadata": {},
     "output_type": "execute_result"
    }
   ],
   "source": [
    "submission.head(1)"
   ]
  },
  {
   "cell_type": "markdown",
   "metadata": {},
   "source": [
    "One observation here is that if the test set (representing Nov 2015) was similar to an average month of the sales set it should contain around 2935847/33 = 89000 rows. Instead it contains over 200000 rows.  "
   ]
  },
  {
   "cell_type": "markdown",
   "metadata": {},
   "source": [
    "It turns out that the test set contains all combinations of 42 unique 'shop_id' values and 5100 unique 'item_id' values which corresponds to 42 * 5100 = 214200 rows.  \n",
    "  \n",
    "The sales set contains both more unique 'shop_id' values and unique 'item_id' values."
   ]
  },
  {
   "cell_type": "code",
   "execution_count": 9,
   "metadata": {},
   "outputs": [
    {
     "data": {
      "text/html": [
       "<div>\n",
       "<style scoped>\n",
       "    .dataframe tbody tr th:only-of-type {\n",
       "        vertical-align: middle;\n",
       "    }\n",
       "\n",
       "    .dataframe tbody tr th {\n",
       "        vertical-align: top;\n",
       "    }\n",
       "\n",
       "    .dataframe thead th {\n",
       "        text-align: right;\n",
       "    }\n",
       "</style>\n",
       "<table border=\"1\" class=\"dataframe\">\n",
       "  <thead>\n",
       "    <tr style=\"text-align: right;\">\n",
       "      <th></th>\n",
       "      <th>ID</th>\n",
       "      <th>item_id</th>\n",
       "    </tr>\n",
       "    <tr>\n",
       "      <th>shop_id</th>\n",
       "      <th></th>\n",
       "      <th></th>\n",
       "    </tr>\n",
       "  </thead>\n",
       "  <tbody>\n",
       "    <tr>\n",
       "      <th>2</th>\n",
       "      <td>5100</td>\n",
       "      <td>5100</td>\n",
       "    </tr>\n",
       "    <tr>\n",
       "      <th>3</th>\n",
       "      <td>5100</td>\n",
       "      <td>5100</td>\n",
       "    </tr>\n",
       "    <tr>\n",
       "      <th>4</th>\n",
       "      <td>5100</td>\n",
       "      <td>5100</td>\n",
       "    </tr>\n",
       "    <tr>\n",
       "      <th>5</th>\n",
       "      <td>5100</td>\n",
       "      <td>5100</td>\n",
       "    </tr>\n",
       "  </tbody>\n",
       "</table>\n",
       "</div>"
      ],
      "text/plain": [
       "           ID  item_id\n",
       "shop_id               \n",
       "2        5100     5100\n",
       "3        5100     5100\n",
       "4        5100     5100\n",
       "5        5100     5100"
      ]
     },
     "execution_count": 9,
     "metadata": {},
     "output_type": "execute_result"
    }
   ],
   "source": [
    "test.groupby(['shop_id']).count().head(4)"
   ]
  },
  {
   "cell_type": "code",
   "execution_count": 10,
   "metadata": {},
   "outputs": [
    {
     "name": "stdout",
     "output_type": "stream",
     "text": [
      "shop_id count (train/test): 60 / 42 \n",
      "item_id count (train/test): 21807 / 5100\n"
     ]
    }
   ],
   "source": [
    "print('shop_id count (train/test):',sales['shop_id'].nunique(),'/',test['shop_id'].nunique(),\n",
    "      '\\nitem_id count (train/test):',sales['item_id'].nunique(),'/',test['item_id'].nunique())"
   ]
  },
  {
   "cell_type": "markdown",
   "metadata": {},
   "source": [
    "It turns out that all test 'shop_id' values are included in the sales set. However:  \n",
    "**There are 363 (out of 5100) unique 'item_id' values in the test set that are not represented in the sales set.**"
   ]
  },
  {
   "cell_type": "code",
   "execution_count": 11,
   "metadata": {},
   "outputs": [
    {
     "name": "stdout",
     "output_type": "stream",
     "text": [
      "All shop_id included? True\n",
      "All item_id included? False\n"
     ]
    }
   ],
   "source": [
    "print('All shop_id included?',test['shop_id'].isin(sales['shop_id']).all())\n",
    "print('All item_id included?',test['item_id'].isin(sales['item_id']).all())"
   ]
  },
  {
   "cell_type": "code",
   "execution_count": 12,
   "metadata": {},
   "outputs": [
    {
     "name": "stdout",
     "output_type": "stream",
     "text": [
      "test item_id values not included in sales set: 363\n"
     ]
    }
   ],
   "source": [
    "not_in_sales = []\n",
    "list = np.sort(sales['item_id'].unique())\n",
    "for i in test['item_id'].unique():\n",
    "    if not (i in list):\n",
    "        not_in_sales.append(i)\n",
    "print('test item_id values not included in sales set:',len(not_in_sales))"
   ]
  },
  {
   "cell_type": "markdown",
   "metadata": {},
   "source": [
    "It also turns out that the training set is composed as follows:  \n",
    "**Only items sold in a particular month are included in the sales set.**"
   ]
  },
  {
   "cell_type": "code",
   "execution_count": 13,
   "metadata": {},
   "outputs": [
    {
     "data": {
      "text/html": [
       "<div>\n",
       "<style scoped>\n",
       "    .dataframe tbody tr th:only-of-type {\n",
       "        vertical-align: middle;\n",
       "    }\n",
       "\n",
       "    .dataframe tbody tr th {\n",
       "        vertical-align: top;\n",
       "    }\n",
       "\n",
       "    .dataframe thead th {\n",
       "        text-align: right;\n",
       "    }\n",
       "</style>\n",
       "<table border=\"1\" class=\"dataframe\">\n",
       "  <thead>\n",
       "    <tr style=\"text-align: right;\">\n",
       "      <th></th>\n",
       "      <th></th>\n",
       "      <th></th>\n",
       "      <th>shop_id</th>\n",
       "      <th>date_block_num</th>\n",
       "      <th>item_id</th>\n",
       "    </tr>\n",
       "    <tr>\n",
       "      <th>date_block_num</th>\n",
       "      <th>shop_id</th>\n",
       "      <th>item_id</th>\n",
       "      <th></th>\n",
       "      <th></th>\n",
       "      <th></th>\n",
       "    </tr>\n",
       "  </thead>\n",
       "  <tbody>\n",
       "    <tr>\n",
       "      <th rowspan=\"4\" valign=\"top\">0</th>\n",
       "      <th rowspan=\"4\" valign=\"top\">0</th>\n",
       "      <th>32</th>\n",
       "      <td>4</td>\n",
       "      <td>4</td>\n",
       "      <td>4</td>\n",
       "    </tr>\n",
       "    <tr>\n",
       "      <th>33</th>\n",
       "      <td>3</td>\n",
       "      <td>3</td>\n",
       "      <td>3</td>\n",
       "    </tr>\n",
       "    <tr>\n",
       "      <th>35</th>\n",
       "      <td>1</td>\n",
       "      <td>1</td>\n",
       "      <td>1</td>\n",
       "    </tr>\n",
       "    <tr>\n",
       "      <th>43</th>\n",
       "      <td>1</td>\n",
       "      <td>1</td>\n",
       "      <td>1</td>\n",
       "    </tr>\n",
       "  </tbody>\n",
       "</table>\n",
       "</div>"
      ],
      "text/plain": [
       "                                shop_id  date_block_num  item_id\n",
       "date_block_num shop_id item_id                                  \n",
       "0              0       32             4               4        4\n",
       "                       33             3               3        3\n",
       "                       35             1               1        1\n",
       "                       43             1               1        1"
      ]
     },
     "execution_count": 13,
     "metadata": {},
     "output_type": "execute_result"
    }
   ],
   "source": [
    "sales.groupby(['date_block_num','shop_id','item_id'])['shop_id','date_block_num','item_id'].count().head(4)"
   ]
  },
  {
   "cell_type": "markdown",
   "metadata": {},
   "source": [
    "Creating scatter plots of the sales and test datasets confirms this picture"
   ]
  },
  {
   "cell_type": "code",
   "execution_count": 14,
   "metadata": {},
   "outputs": [
    {
     "data": {
      "text/plain": [
       "<matplotlib.axes._subplots.AxesSubplot at 0x7f6ceff81240>"
      ]
     },
     "execution_count": 14,
     "metadata": {},
     "output_type": "execute_result"
    },
    {
     "data": {
      "text/plain": [
       "<matplotlib.axes._subplots.AxesSubplot at 0x7f6cf160b470>"
      ]
     },
     "execution_count": 14,
     "metadata": {},
     "output_type": "execute_result"
    },
    {
     "data": {
      "image/png": "[encoded data removed]",
      "text/plain": [
       "<Figure size 432x288 with 1 Axes>"
      ]
     },
     "metadata": {},
     "output_type": "display_data"
    },
    {
     "data": {
      "image/png": "[encoded data removed]",
      "text/plain": [
       "<Figure size 432x288 with 1 Axes>"
      ]
     },
     "metadata": {},
     "output_type": "display_data"
    }
   ],
   "source": [
    "sales.plot.scatter('item_id', 'shop_id', s = 0.01, title='sales')\n",
    "test.plot.scatter('item_id', 'shop_id', s = 0.01, title='test')"
   ]
  },
  {
   "cell_type": "markdown",
   "metadata": {},
   "source": [
    "### Time trends\n",
    "Observing the data there seems to be some proof of peroidic behavior, e.g. it seems the sales are high around new year\n",
    "\n"
   ]
  },
  {
   "cell_type": "code",
   "execution_count": 15,
   "metadata": {},
   "outputs": [
    {
     "data": {
      "text/plain": [
       "<matplotlib.axes._subplots.AxesSubplot at 0x7f6cf15ab4e0>"
      ]
     },
     "execution_count": 15,
     "metadata": {},
     "output_type": "execute_result"
    },
    {
     "data": {
      "image/png": "[encoded data removed]",
      "text/plain": [
       "<Figure size 432x288 with 1 Axes>"
      ]
     },
     "metadata": {},
     "output_type": "display_data"
    }
   ],
   "source": [
    "sales.groupby('date_block_num').agg({\"item_cnt_day\": \"sum\"}).plot.bar(title=\"Items transacted (date_block_num)\")"
   ]
  },
  {
   "cell_type": "markdown",
   "metadata": {},
   "source": [
    "This confirms the validity of introducing time-based features.  \n",
    "Added to the periodicities mentioned above we a also see an overall trend of sales diminishing."
   ]
  },
  {
   "cell_type": "markdown",
   "metadata": {},
   "source": [
    "# 2. Data cleaning <a name='2'></a>"
   ]
  },
  {
   "cell_type": "markdown",
   "metadata": {},
   "source": [
    "Observing the values for 'item_price' and 'item_cnt_day' it looks like we have some erroneous data.  \n",
    "Hence a bit of cleaning is applied."
   ]
  },
  {
   "cell_type": "code",
   "execution_count": 16,
   "metadata": {},
   "outputs": [
    {
     "name": "stdout",
     "output_type": "stream",
     "text": [
      "column: item_price - min: -1.0 - max: 307980.0 - mean: 890.8532326979881\n",
      "column: item_cnt_day - min: -22.0 - max: 2169.0 - mean: 1.242640885140891\n"
     ]
    }
   ],
   "source": [
    "for col in ['item_price', 'item_cnt_day']:\n",
    "    print('column:',col,'- min:',sales[col].min(),'- max:',sales[col].max(),'- mean:',sales[col].mean())"
   ]
  },
  {
   "cell_type": "code",
   "execution_count": 17,
   "metadata": {},
   "outputs": [],
   "source": [
    "sales = sales[sales.item_price<100000]\n",
    "sales = sales[sales.item_cnt_day<=900]"
   ]
  },
  {
   "cell_type": "markdown",
   "metadata": {},
   "source": [
    "Let's check for missing values. It turns out we're fine."
   ]
  },
  {
   "cell_type": "code",
   "execution_count": 18,
   "metadata": {},
   "outputs": [
    {
     "data": {
      "text/plain": [
       "date              0\n",
       "date_block_num    0\n",
       "shop_id           0\n",
       "item_id           0\n",
       "item_price        0\n",
       "item_cnt_day      0\n",
       "dtype: int64"
      ]
     },
     "execution_count": 18,
     "metadata": {},
     "output_type": "execute_result"
    }
   ],
   "source": [
    "sales.isnull().sum(axis = 0)"
   ]
  },
  {
   "cell_type": "markdown",
   "metadata": {},
   "source": [
    "# 3. Aggregate data and mean encoding <a name='3'></a>"
   ]
  },
  {
   "cell_type": "markdown",
   "metadata": {},
   "source": [
    "As seen above the test set requires us to predict monthly sales. Hence we need to aggregate the sales data to montly level before proceding"
   ]
  },
  {
   "cell_type": "code",
   "execution_count": 19,
   "metadata": {},
   "outputs": [],
   "source": [
    "sales_m = sales.groupby(['date_block_num','shop_id','item_id']).agg({'item_cnt_day': 'sum','item_price': np.mean}).reset_index()\n",
    "sales_m = pd.merge(grid,sales_m,on=['date_block_num','shop_id','item_id'],how='left').fillna(0)"
   ]
  },
  {
   "cell_type": "markdown",
   "metadata": {},
   "source": [
    "Further join our sales data frame with the item and item category data frames to include more item features"
   ]
  },
  {
   "cell_type": "code",
   "execution_count": 20,
   "metadata": {},
   "outputs": [],
   "source": [
    "sales_m = pd.merge(sales_m,items,on=['item_id'],how='left')\n",
    "sales_m = pd.merge(sales_m,item_category, on=['item_category_id'], how='left')"
   ]
  },
  {
   "cell_type": "markdown",
   "metadata": {},
   "source": [
    "And then perform mean encoding on all category data which are item_id, shop_id and item_category_id.\n",
    "In total 9 new features are created:\n",
    "'item_id_avg_item_price', 'item_id_sum_item_cnt_day', 'item_id_avg_item_cnt_day', 'shop_id_avg_item_price', 'shop_id_sum_item_cnt_day', 'shop_id_avg_item_cnt_day', 'item_category_id_avg_item_price', 'item_category_id_sum_item_cnt_day', 'item_category_id_avg_item_cnt_day"
   ]
  },
  {
   "cell_type": "markdown",
   "metadata": {},
   "source": [
    "We then perform mean encoding on all category data which are item_id, shop_id and item_category_id"
   ]
  },
  {
   "cell_type": "code",
   "execution_count": 21,
   "metadata": {},
   "outputs": [],
   "source": [
    "for type_id in ['item_id','shop_id','item_category_id']:\n",
    "    for column_id, agg_func, func_name in [('item_price',np.mean,'avg'),('item_cnt_day',np.sum,'sum'),('item_cnt_day',np.mean,'avg')]:\n",
    "        mean_df = sales_m.groupby([type_id,'date_block_num']).agg(agg_func).reset_index()[[column_id,type_id,'date_block_num']]\n",
    "        mean_df.columns = [type_id+'_'+func_name+'_'+column_id, type_id,'date_block_num']\n",
    "        sales_m = pd.merge(sales_m,mean_df,on=['date_block_num', type_id],how='left')"
   ]
  },
  {
   "cell_type": "code",
   "execution_count": 22,
   "metadata": {},
   "outputs": [
    {
     "data": {
      "text/html": [
       "<div>\n",
       "<style scoped>\n",
       "    .dataframe tbody tr th:only-of-type {\n",
       "        vertical-align: middle;\n",
       "    }\n",
       "\n",
       "    .dataframe tbody tr th {\n",
       "        vertical-align: top;\n",
       "    }\n",
       "\n",
       "    .dataframe thead th {\n",
       "        text-align: right;\n",
       "    }\n",
       "</style>\n",
       "<table border=\"1\" class=\"dataframe\">\n",
       "  <thead>\n",
       "    <tr style=\"text-align: right;\">\n",
       "      <th></th>\n",
       "      <th>shop_id</th>\n",
       "      <th>item_id</th>\n",
       "      <th>date_block_num</th>\n",
       "      <th>item_cnt_day</th>\n",
       "      <th>item_price</th>\n",
       "      <th>item_name</th>\n",
       "      <th>item_category_id</th>\n",
       "      <th>item_category_name</th>\n",
       "      <th>item_id_avg_item_price</th>\n",
       "      <th>item_id_sum_item_cnt_day</th>\n",
       "      <th>item_id_avg_item_cnt_day</th>\n",
       "      <th>shop_id_avg_item_price</th>\n",
       "      <th>shop_id_sum_item_cnt_day</th>\n",
       "      <th>shop_id_avg_item_cnt_day</th>\n",
       "      <th>item_category_id_avg_item_price</th>\n",
       "      <th>item_category_id_sum_item_cnt_day</th>\n",
       "      <th>item_category_id_avg_item_cnt_day</th>\n",
       "    </tr>\n",
       "  </thead>\n",
       "  <tbody>\n",
       "    <tr>\n",
       "      <th>0</th>\n",
       "      <td>59</td>\n",
       "      <td>22154</td>\n",
       "      <td>0</td>\n",
       "      <td>1.0</td>\n",
       "      <td>999.0</td>\n",
       "      <td>ЯВЛЕНИЕ 2012 (BD)</td>\n",
       "      <td>37</td>\n",
       "      <td>Кино - Blu-Ray</td>\n",
       "      <td>310.8</td>\n",
       "      <td>18.0</td>\n",
       "      <td>0.4</td>\n",
       "      <td>97.974472</td>\n",
       "      <td>2017.0</td>\n",
       "      <td>0.248552</td>\n",
       "      <td>63.014719</td>\n",
       "      <td>6094.0</td>\n",
       "      <td>0.199738</td>\n",
       "    </tr>\n",
       "  </tbody>\n",
       "</table>\n",
       "</div>"
      ],
      "text/plain": [
       "   shop_id  item_id  date_block_num  item_cnt_day  item_price  \\\n",
       "0       59    22154               0           1.0       999.0   \n",
       "\n",
       "           item_name  item_category_id item_category_name  \\\n",
       "0  ЯВЛЕНИЕ 2012 (BD)                37     Кино - Blu-Ray   \n",
       "\n",
       "   item_id_avg_item_price  item_id_sum_item_cnt_day  item_id_avg_item_cnt_day  \\\n",
       "0                   310.8                      18.0                       0.4   \n",
       "\n",
       "   shop_id_avg_item_price  shop_id_sum_item_cnt_day  shop_id_avg_item_cnt_day  \\\n",
       "0               97.974472                    2017.0                  0.248552   \n",
       "\n",
       "   item_category_id_avg_item_price  item_category_id_sum_item_cnt_day  \\\n",
       "0                        63.014719                             6094.0   \n",
       "\n",
       "   item_category_id_avg_item_cnt_day  \n",
       "0                           0.199738  "
      ]
     },
     "execution_count": 22,
     "metadata": {},
     "output_type": "execute_result"
    }
   ],
   "source": [
    "sales_m.head(1)"
   ]
  },
  {
   "cell_type": "markdown",
   "metadata": {},
   "source": [
    "# 4. Time series LAG <a name='4'></a>"
   ]
  },
  {
   "cell_type": "markdown",
   "metadata": {},
   "source": [
    "We will introduce LAG features i.e. use of prior time steps to predict the next time step."
   ]
  },
  {
   "cell_type": "markdown",
   "metadata": {},
   "source": [
    "We first append test data into sales data.  \n",
    "This is needed in order for us to create lag features on them."
   ]
  },
  {
   "cell_type": "code",
   "execution_count": 23,
   "metadata": {},
   "outputs": [
    {
     "name": "stderr",
     "output_type": "stream",
     "text": [
      "/opt/conda/lib/python3.6/site-packages/ipykernel_launcher.py:8: FutureWarning: Sorting because non-concatenation axis is not aligned. A future version\n",
      "of pandas will change to not sort by default.\n",
      "\n",
      "To accept the future behavior, pass 'sort=True'.\n",
      "\n",
      "To retain the current behavior and silence the warning, pass sort=False\n",
      "\n",
      "  \n"
     ]
    }
   ],
   "source": [
    "temp_copy = test.copy()\n",
    "temp_copy['date_block_num'] = 34\n",
    "temp_copy.drop('ID', axis=1, inplace=True)\n",
    "temp_copy = temp_copy.merge(items, how='left', on='item_id')\n",
    "temp_copy = temp_copy.merge(item_category, how='left', on='item_category_id')\n",
    "temp_copy.drop('item_name', axis=1, inplace=True)\n",
    "sales_m.drop('item_name', axis=1, inplace=True)\n",
    "sales_m = pd.concat([sales_m,temp_copy], axis=0, ignore_index=True)"
   ]
  },
  {
   "cell_type": "markdown",
   "metadata": {},
   "source": [
    "We create lags on 10 features. 9 features are from mean encoding and 1 feature is the item_cnt_day.\n",
    "\n",
    "After several tries, we found that month lag intervals of 1, 2, 3, 4, 5, 6, 9 and 12 give best score in the leaderboard. Take note that 16GB of ram is unable to compute such large number of interval. We need at least 64GB of ram. "
   ]
  },
  {
   "cell_type": "code",
   "execution_count": 24,
   "metadata": {},
   "outputs": [],
   "source": [
    "lag_variables  = ['item_id_avg_item_price','item_id_sum_item_cnt_day','item_id_avg_item_cnt_day',\n",
    "'shop_id_avg_item_price','shop_id_sum_item_cnt_day','shop_id_avg_item_cnt_day','item_category_id_avg_item_price',\n",
    "'item_category_id_sum_item_cnt_day','item_category_id_avg_item_cnt_day','item_cnt_day']\n",
    "\n",
    "# More lags (longer back in time) might produce better result\n",
    "# I've limited this in order to fit data frame into memory\n",
    "lags = [1,2,3]\n",
    "\n",
    "for lag in lags:\n",
    "    sales_new_df = sales_m.copy()\n",
    "    sales_new_df.date_block_num+=lag\n",
    "    sales_new_df = sales_new_df[['date_block_num','shop_id','item_id']+lag_variables]\n",
    "    sales_new_df.columns = ['date_block_num','shop_id','item_id']+ [lag_feat+'_lag_'+str(lag) for lag_feat in lag_variables]\n",
    "    sales_m = sales_m.merge(sales_new_df,on=['date_block_num','shop_id','item_id'] ,how='left')"
   ]
  },
  {
   "cell_type": "code",
   "execution_count": 25,
   "metadata": {},
   "outputs": [
    {
     "data": {
      "text/html": [
       "<div>\n",
       "<style scoped>\n",
       "    .dataframe tbody tr th:only-of-type {\n",
       "        vertical-align: middle;\n",
       "    }\n",
       "\n",
       "    .dataframe tbody tr th {\n",
       "        vertical-align: top;\n",
       "    }\n",
       "\n",
       "    .dataframe thead th {\n",
       "        text-align: right;\n",
       "    }\n",
       "</style>\n",
       "<table border=\"1\" class=\"dataframe\">\n",
       "  <thead>\n",
       "    <tr style=\"text-align: right;\">\n",
       "      <th></th>\n",
       "      <th>date_block_num</th>\n",
       "      <th>item_category_id</th>\n",
       "      <th>item_category_id_avg_item_cnt_day</th>\n",
       "      <th>item_category_id_avg_item_price</th>\n",
       "      <th>item_category_id_sum_item_cnt_day</th>\n",
       "      <th>item_category_name</th>\n",
       "      <th>item_cnt_day</th>\n",
       "      <th>item_id</th>\n",
       "      <th>item_id_avg_item_cnt_day</th>\n",
       "      <th>item_id_avg_item_price</th>\n",
       "      <th>...</th>\n",
       "      <th>item_id_avg_item_price_lag_3</th>\n",
       "      <th>item_id_sum_item_cnt_day_lag_3</th>\n",
       "      <th>item_id_avg_item_cnt_day_lag_3</th>\n",
       "      <th>shop_id_avg_item_price_lag_3</th>\n",
       "      <th>shop_id_sum_item_cnt_day_lag_3</th>\n",
       "      <th>shop_id_avg_item_cnt_day_lag_3</th>\n",
       "      <th>item_category_id_avg_item_price_lag_3</th>\n",
       "      <th>item_category_id_sum_item_cnt_day_lag_3</th>\n",
       "      <th>item_category_id_avg_item_cnt_day_lag_3</th>\n",
       "      <th>item_cnt_day_lag_3</th>\n",
       "    </tr>\n",
       "  </thead>\n",
       "  <tbody>\n",
       "    <tr>\n",
       "      <th>0</th>\n",
       "      <td>0</td>\n",
       "      <td>37</td>\n",
       "      <td>0.199738</td>\n",
       "      <td>63.014719</td>\n",
       "      <td>6094.0</td>\n",
       "      <td>Кино - Blu-Ray</td>\n",
       "      <td>1.0</td>\n",
       "      <td>22154</td>\n",
       "      <td>0.4</td>\n",
       "      <td>310.8</td>\n",
       "      <td>...</td>\n",
       "      <td>NaN</td>\n",
       "      <td>NaN</td>\n",
       "      <td>NaN</td>\n",
       "      <td>NaN</td>\n",
       "      <td>NaN</td>\n",
       "      <td>NaN</td>\n",
       "      <td>NaN</td>\n",
       "      <td>NaN</td>\n",
       "      <td>NaN</td>\n",
       "      <td>NaN</td>\n",
       "    </tr>\n",
       "  </tbody>\n",
       "</table>\n",
       "<p>1 rows × 46 columns</p>\n",
       "</div>"
      ],
      "text/plain": [
       "   date_block_num  item_category_id  item_category_id_avg_item_cnt_day  \\\n",
       "0               0                37                           0.199738   \n",
       "\n",
       "   item_category_id_avg_item_price  item_category_id_sum_item_cnt_day  \\\n",
       "0                        63.014719                             6094.0   \n",
       "\n",
       "  item_category_name  item_cnt_day  item_id  item_id_avg_item_cnt_day  \\\n",
       "0     Кино - Blu-Ray           1.0    22154                       0.4   \n",
       "\n",
       "   item_id_avg_item_price         ...          item_id_avg_item_price_lag_3  \\\n",
       "0                   310.8         ...                                   NaN   \n",
       "\n",
       "   item_id_sum_item_cnt_day_lag_3  item_id_avg_item_cnt_day_lag_3  \\\n",
       "0                             NaN                             NaN   \n",
       "\n",
       "   shop_id_avg_item_price_lag_3  shop_id_sum_item_cnt_day_lag_3  \\\n",
       "0                           NaN                             NaN   \n",
       "\n",
       "   shop_id_avg_item_cnt_day_lag_3  item_category_id_avg_item_price_lag_3  \\\n",
       "0                             NaN                                    NaN   \n",
       "\n",
       "   item_category_id_sum_item_cnt_day_lag_3  \\\n",
       "0                                      NaN   \n",
       "\n",
       "   item_category_id_avg_item_cnt_day_lag_3  item_cnt_day_lag_3  \n",
       "0                                      NaN                 NaN  \n",
       "\n",
       "[1 rows x 46 columns]"
      ]
     },
     "execution_count": 25,
     "metadata": {},
     "output_type": "execute_result"
    }
   ],
   "source": [
    "sales_m.head(1)"
   ]
  },
  {
   "cell_type": "markdown",
   "metadata": {},
   "source": [
    "A little cleanup before proceeding. Let's fill missing values"
   ]
  },
  {
   "cell_type": "code",
   "execution_count": 26,
   "metadata": {},
   "outputs": [],
   "source": [
    "for feat in sales_m.columns:\n",
    "    if 'item_cnt' in feat:\n",
    "        sales_m[feat]=sales_m[feat].fillna(0)\n",
    "    elif 'item_price' in feat:\n",
    "        sales_m[feat]=sales_m[feat].fillna(sales_m[feat].median())"
   ]
  },
  {
   "cell_type": "markdown",
   "metadata": {},
   "source": [
    "# 5. Feature engineering <a name='5'></a>"
   ]
  },
  {
   "cell_type": "markdown",
   "metadata": {},
   "source": [
    "To keep periodicity information in the dataset we'll add a 'month of year' indicator"
   ]
  },
  {
   "cell_type": "code",
   "execution_count": 27,
   "metadata": {},
   "outputs": [],
   "source": [
    "sales_m['date_block_mod'] = sales_m['date_block_num'] % 12"
   ]
  },
  {
   "cell_type": "markdown",
   "metadata": {},
   "source": [
    "I have (offline) created the table <categories_en.csv> in two steps:\n",
    "I took the table <item_categories.csv> and ran it through Google translate\n",
    "I aggregated the values into super categories e.g. everything containing music is labelled 'Music' etc.\n",
    "Example: item category name \"Игровые консоли - PS2,10\" is translated into \"Game Consoles - PS2,10\". All names containing the words \"\"Game Consoles\" are then mapped to the category \"Game Consoles\" (stemming)."
   ]
  },
  {
   "cell_type": "code",
   "execution_count": null,
   "metadata": {},
   "outputs": [],
   "source": [
    "#cat_en_df = pd.read_csv('./categories_en.csv')\n",
    "#sales_m = pd.merge(sales_m, cat_en_df, left_on='item_category_id', right_on='item_category_id')"
   ]
  },
  {
   "cell_type": "markdown",
   "metadata": {},
   "source": [
    "Similarly I have create the table <shops_en.csv> from the table <shops.csv> through Google translate and then applying stemming.  \n",
    "Exampe: shop name 'Адыгея ТЦ Мега' is translated to 'Adygea Shopping Center Mega' which is the stemmed to 'Adygea'."
   ]
  },
  {
   "cell_type": "code",
   "execution_count": null,
   "metadata": {},
   "outputs": [],
   "source": [
    "#shops_en_df = pd.read_csv('./shops_en.csv')\n",
    "#sales_m = pd.merge(sales_m, shops_en_df, left_on='shop_id', right_on='shop_id')"
   ]
  },
  {
   "cell_type": "markdown",
   "metadata": {},
   "source": [
    "We need to encoder the new labels as numeric in order for XGBoost to handle then"
   ]
  },
  {
   "cell_type": "code",
   "execution_count": null,
   "metadata": {},
   "outputs": [],
   "source": [
    "#sales_m['cat_en'] = sales_m['cat_en'].astype('category')\n",
    "#sales_m['shop_en'] = sales_m['shop_en'].astype('category')"
   ]
  },
  {
   "cell_type": "code",
   "execution_count": null,
   "metadata": {},
   "outputs": [],
   "source": [
    "#le = preprocessing.LabelEncoder()\n",
    "#le = le.fit(sales_m['cat_en'])\n",
    "#sales_m['cat_en_num'] = le.transform(sales_m['cat_en'])\n",
    "#le = le.fit(sales_m['shop_en'])\n",
    "#sales_m['shop_en_num'] = le.transform(sales_m['shop_en'])\n",
    "#sales_m.head(1)"
   ]
  },
  {
   "cell_type": "markdown",
   "metadata": {},
   "source": [
    "After test it turns out that adding 'cat_en' and 'shop_en' does not improve the score and they are henced omitted."
   ]
  },
  {
   "cell_type": "markdown",
   "metadata": {},
   "source": [
    "# 6. Validation <a name='6'></a>"
   ]
  },
  {
   "cell_type": "markdown",
   "metadata": {},
   "source": [
    "### Train/test split\n",
    "As we earlier saw an overall trend of sales diminishing over time\n",
    "we will focus on the latest data available"
   ]
  },
  {
   "cell_type": "code",
   "execution_count": 28,
   "metadata": {},
   "outputs": [],
   "source": [
    "sales_m = sales_m[sales_m['date_block_num']>12]"
   ]
  },
  {
   "cell_type": "markdown",
   "metadata": {},
   "source": [
    "As our dataset is time-based\n",
    "and our test set is based on data after the train set\n",
    "we use the last block in the series for validation (hold-out scheme).  \n",
    "This is an acceptable strategy as we have sufficient data."
   ]
  },
  {
   "cell_type": "markdown",
   "metadata": {},
   "source": [
    "Now let's split the combined dataframe.  \n",
    "Note that X_train includes both features and label column (y_train / item_cnt)"
   ]
  },
  {
   "cell_type": "code",
   "execution_count": 29,
   "metadata": {},
   "outputs": [],
   "source": [
    "cols_to_drop = lag_variables[:-1] + ['item_price']\n",
    "X_train = sales_m[sales_m['date_block_num']<33].drop(cols_to_drop, axis=1)\n",
    "X_cv =  sales_m[sales_m['date_block_num']==33].drop(cols_to_drop, axis=1)\n",
    "X_test = sales_m[sales_m['date_block_num']==34].drop(cols_to_drop, axis=1)"
   ]
  },
  {
   "cell_type": "code",
   "execution_count": 30,
   "metadata": {},
   "outputs": [
    {
     "name": "stdout",
     "output_type": "stream",
     "text": [
      "dimensions of X_train: (5839576, 37) \n",
      "dimensions of X_cv: (238172, 37)\n"
     ]
    }
   ],
   "source": [
    "print('dimensions of X_train:',X_train.shape,'\\ndimensions of X_cv:',X_cv.shape)"
   ]
  },
  {
   "cell_type": "markdown",
   "metadata": {},
   "source": [
    "### Public/private split\n",
    "The test set contains 214200 rows.\n",
    "The public and private test sets are both subsets of this combined test set.  \n",
    "When we submit we can observe our score towards the public test set."
   ]
  },
  {
   "cell_type": "code",
   "execution_count": 31,
   "metadata": {},
   "outputs": [
    {
     "name": "stdout",
     "output_type": "stream",
     "text": [
      "dimensions of test: (214200, 3) \n",
      "dimsensions of X_test (214200, 37)\n"
     ]
    }
   ],
   "source": [
    "print('dimensions of test:',test.shape,'\\ndimsensions of X_test', X_test.shape)"
   ]
  },
  {
   "cell_type": "markdown",
   "metadata": {},
   "source": [
    "# 7. Data clipping <a name='7'></a>"
   ]
  },
  {
   "cell_type": "markdown",
   "metadata": {},
   "source": [
    "Clip the item_cnt_day within 40 (from discussion in Kaggle forum)"
   ]
  },
  {
   "cell_type": "code",
   "execution_count": 32,
   "metadata": {},
   "outputs": [],
   "source": [
    "X_train['item_cnt_day'].clip_upper(40, inplace=True)\n",
    "X_train['item_cnt_day'].clip_lower(0, inplace=True)\n",
    "X_cv['item_cnt_day'].clip_upper(40, inplace=True)\n",
    "X_cv['item_cnt_day'].clip_lower(0, inplace=True)\n",
    "X_test['item_cnt_day'].clip_upper(40, inplace=True)\n",
    "X_test['item_cnt_day'].clip_lower(0, inplace=True)"
   ]
  },
  {
   "cell_type": "markdown",
   "metadata": {},
   "source": [
    "# 8. Data leakage search <a name='8'></a>"
   ]
  },
  {
   "cell_type": "markdown",
   "metadata": {},
   "source": [
    "I did not find hidden information in the test set 'ID' column:"
   ]
  },
  {
   "cell_type": "code",
   "execution_count": 33,
   "metadata": {},
   "outputs": [
    {
     "data": {
      "text/plain": [
       "0    0\n",
       "1    1\n",
       "2    2\n",
       "3    3\n",
       "4    4\n",
       "Name: ID, dtype: int64"
      ]
     },
     "execution_count": 33,
     "metadata": {},
     "output_type": "execute_result"
    }
   ],
   "source": [
    "test['ID'].head()"
   ]
  },
  {
   "cell_type": "markdown",
   "metadata": {},
   "source": [
    "There does not seem to be any out-of-date (look into the future) information in the sales set"
   ]
  },
  {
   "cell_type": "code",
   "execution_count": 34,
   "metadata": {},
   "outputs": [
    {
     "data": {
      "text/plain": [
       "array(['01.01.2013', '01.01.2014', '01.01.2015', ..., '31.10.2015',\n",
       "       '31.12.2013', '31.12.2014'], dtype=object)"
      ]
     },
     "execution_count": 34,
     "metadata": {},
     "output_type": "execute_result"
    }
   ],
   "source": [
    "np.sort(sales['date'].unique())"
   ]
  },
  {
   "cell_type": "markdown",
   "metadata": {},
   "source": [
    "What about row order in test set?\n",
    "It seems like there is no hidden information here.  \n",
    "The values in the columns 'shop_id' and 'item_id' are shuffled and then combined."
   ]
  },
  {
   "cell_type": "code",
   "execution_count": 35,
   "metadata": {},
   "outputs": [
    {
     "name": "stdout",
     "output_type": "stream",
     "text": [
      "   ID  shop_id  item_id\n",
      "0   0        5     5037\n",
      "   ID  shop_id  item_id\n",
      "1   1        5     5320\n",
      "        ID  shop_id  item_id\n",
      "5100  5100        4     5037\n",
      "        ID  shop_id  item_id\n",
      "5101  5101        4     5320\n"
     ]
    }
   ],
   "source": [
    "for i in range(0,2):\n",
    "    for j in range(0,2):\n",
    "        print(test.iloc[[i*5100+j]])"
   ]
  },
  {
   "cell_type": "markdown",
   "metadata": {},
   "source": [
    "So no data leaks found in my search."
   ]
  },
  {
   "cell_type": "markdown",
   "metadata": {},
   "source": [
    "# 9. Training <a name='9'></a>"
   ]
  },
  {
   "cell_type": "markdown",
   "metadata": {},
   "source": [
    "Now let's train a model using XGBoost"
   ]
  },
  {
   "cell_type": "code",
   "execution_count": 36,
   "metadata": {},
   "outputs": [],
   "source": [
    "params = {\n",
    "        'eta': 0.08,\n",
    "        'max_depth': 7,\n",
    "        'objective': 'reg:linear',\n",
    "        'eval_metric': 'rmse',\n",
    "        'seed': 3,\n",
    "        'gamma':1,\n",
    "        'silent': True\n",
    "    }"
   ]
  },
  {
   "cell_type": "code",
   "execution_count": 37,
   "metadata": {},
   "outputs": [
    {
     "name": "stdout",
     "output_type": "stream",
     "text": [
      "[11:52:00] Tree method is automatically selected to be 'approx' for faster speed. to use old behavior(exact greedy algorithm on single machine), set tree_method to 'exact'\n",
      "[0]\ttrain-rmse:1.40522\tvalid-rmse:1.37906\n",
      "Multiple eval metrics have been passed: 'valid-rmse' will be used for early stopping.\n",
      "\n",
      "Will train until valid-rmse hasn't improved in 50 rounds.\n",
      "[50]\ttrain-rmse:1.02193\tvalid-rmse:1.14896\n",
      "[100]\ttrain-rmse:0.985907\tvalid-rmse:1.14447\n",
      "[150]\ttrain-rmse:0.961827\tvalid-rmse:1.14761\n",
      "Stopping. Best iteration:\n",
      "[102]\ttrain-rmse:0.985336\tvalid-rmse:1.14439\n",
      "\n"
     ]
    }
   ],
   "source": [
    "cols = [c for c in X_train.columns if c not in ['date_block_num', 'item_cnt_day','item_category_name']]\n",
    "x1 = X_train[cols]\n",
    "y1 = X_train['item_cnt_day']\n",
    "x2 = X_cv[cols]\n",
    "y2 = X_cv['item_cnt_day']\n",
    "watchlist = [(xgb.DMatrix(x1, y1), 'train'), (xgb.DMatrix(x2, y2), 'valid')]\n",
    "model = xgb.train(params, xgb.DMatrix(x1, y1), 3500,  watchlist, maximize=False, verbose_eval=50, early_stopping_rounds=50)"
   ]
  },
  {
   "cell_type": "markdown",
   "metadata": {},
   "source": [
    "# 10. Predict <a name='10'></a>"
   ]
  },
  {
   "cell_type": "markdown",
   "metadata": {},
   "source": [
    "Now let's take the model and use it on the test set in order to create a set of predictions.  \n",
    "Clip the item_cnt_day within 20 (from discussion in Kaggle forum)"
   ]
  },
  {
   "cell_type": "code",
   "execution_count": 38,
   "metadata": {},
   "outputs": [],
   "source": [
    "pred = model.predict(xgb.DMatrix(X_test[cols]), ntree_limit=model.best_ntree_limit)\n",
    "test['item_cnt_month'] = pred.clip(0,20)\n",
    "test.drop(['shop_id', 'item_id'], axis=1, inplace=True)"
   ]
  },
  {
   "cell_type": "markdown",
   "metadata": {},
   "source": [
    "### Save predictions\n",
    "Let's save the predictions to disc in order to submit them on coursera.org"
   ]
  },
  {
   "cell_type": "code",
   "execution_count": 39,
   "metadata": {},
   "outputs": [],
   "source": [
    "test.to_csv('submission.csv', index=False)"
   ]
  },
  {
   "cell_type": "markdown",
   "metadata": {},
   "source": [
    "# 11. Conclusion and metric evaluation <a name='11'></a>"
   ]
  },
  {
   "cell_type": "markdown",
   "metadata": {},
   "source": [
    "Submitting the prediction above gives\n",
    "-  public leaderboard score: 0.961135\n",
    "-  private leaderboard score: 0.969740\n",
    "\n",
    "This result have an acceptable RMSE loss.  \n",
    "Also we haven't overfitted towards the public leaderboard (results are not to wide apart)."
   ]
  }
 ],
 "metadata": {
  "kernelspec": {
   "display_name": "Python 3",
   "language": "python",
   "name": "python3"
  },
  "language_info": {
   "codemirror_mode": {
    "name": "ipython",
    "version": 3
   },
   "file_extension": ".py",
   "mimetype": "text/x-python",
   "name": "python",
   "nbconvert_exporter": "python",
   "pygments_lexer": "ipython3",
   "version": "3.6.5"
  }
 },
 "nbformat": 4,
 "nbformat_minor": 2
}
